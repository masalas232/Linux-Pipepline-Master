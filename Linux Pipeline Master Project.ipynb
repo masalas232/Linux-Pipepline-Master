{
 "cells": [
  {
   "cell_type": "markdown",
   "metadata": {},
   "source": [
    "# Linux Pipeline Master Project"
   ]
  },
  {
   "cell_type": "markdown",
   "metadata": {},
   "source": [
    "## Task 1\n",
    "\n",
    "- Use `ls` command to list out all of the contents in your `/etc` and your `/run` folders\n",
    "- First use `ls` to list out contents of `/etc` and redirect those contents into file called file1.txt\n",
    "- Do same for `/run` folder but redirect content into file2.txt"
   ]
  },
  {
   "cell_type": "code",
   "execution_count": null,
   "metadata": {},
   "outputs": [],
   "source": [
    "## Linux Code for Task 1\n",
    "\n",
    "ls /etc > file1.txt\n",
    "\n",
    "ls /run > file2.txt"
   ]
  },
  {
   "cell_type": "markdown",
   "metadata": {},
   "source": [
    "## Task 2\n",
    "\n",
    "- Use `cat` command to concatenate file1.txt and file2.txt into another file called unsorted.txt\n",
    "- In the same pipepline, use the `sort` command with the `r` option to reverse the ouput from the `cat` command and redirect the reversed output to another file called reveresed.txt"
   ]
  },
  {
   "cell_type": "code",
   "execution_count": null,
   "metadata": {},
   "outputs": [],
   "source": [
    "## Linux Code for Task 2\n",
    "\n",
    "cat file1.txt file2.txt | tee unsorted.txt | sort -r > reversed.txt"
   ]
  }
 ],
 "metadata": {
  "kernelspec": {
   "display_name": "Python 3",
   "language": "python",
   "name": "python3"
  },
  "language_info": {
   "codemirror_mode": {
    "name": "ipython",
    "version": 3
   },
   "file_extension": ".py",
   "mimetype": "text/x-python",
   "name": "python",
   "nbconvert_exporter": "python",
   "pygments_lexer": "ipython3",
   "version": "3.6.8"
  }
 },
 "nbformat": 4,
 "nbformat_minor": 2
}
